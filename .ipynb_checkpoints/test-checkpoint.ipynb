{
 "cells": [
  {
   "cell_type": "code",
   "execution_count": 1,
   "metadata": {},
   "outputs": [],
   "source": [
    "dictionary = {1:'apple', 4:'banana'}"
   ]
  },
  {
   "cell_type": "code",
   "execution_count": 2,
   "metadata": {},
   "outputs": [
    {
     "data": {
      "text/plain": [
       "'apple'"
      ]
     },
     "execution_count": 2,
     "metadata": {},
     "output_type": "execute_result"
    }
   ],
   "source": [
    "dictionary[1]"
   ]
  },
  {
   "cell_type": "code",
   "execution_count": 6,
   "metadata": {},
   "outputs": [
    {
     "data": {
      "text/plain": [
       "dict_keys([1, 4])"
      ]
     },
     "execution_count": 6,
     "metadata": {},
     "output_type": "execute_result"
    }
   ],
   "source": [
    "dictionary.keys()"
   ]
  },
  {
   "cell_type": "code",
   "execution_count": 7,
   "metadata": {},
   "outputs": [
    {
     "data": {
      "text/plain": [
       "dict_values(['apple', 'banana'])"
      ]
     },
     "execution_count": 7,
     "metadata": {},
     "output_type": "execute_result"
    }
   ],
   "source": [
    "dictionary.values()"
   ]
  },
  {
   "cell_type": "code",
   "execution_count": 11,
   "metadata": {},
   "outputs": [],
   "source": [
    "aaa = [1, 3, 4, 5]\n",
    "bbb = ['apple', 'grape', 'orange']\n",
    "\n",
    "aaa.append(bbb)\n",
    "\n",
    "ccc = aaa + bbb"
   ]
  },
  {
   "cell_type": "code",
   "execution_count": 14,
   "metadata": {},
   "outputs": [
    {
     "name": "stdout",
     "output_type": "stream",
     "text": [
      "apple\n",
      "apple\n"
     ]
    }
   ],
   "source": [
    "print(aaa[4][0])\n",
    "print(ccc[5])"
   ]
  },
  {
   "cell_type": "code",
   "execution_count": 15,
   "metadata": {},
   "outputs": [
    {
     "name": "stdout",
     "output_type": "stream",
     "text": [
      "False\n",
      "True\n"
     ]
    }
   ],
   "source": [
    "aaa = [1, 2, 3, 4]\n",
    "bbb = [5, 6, 7, 8]\n",
    "\n",
    "print(aaa is bbb)\n",
    "print(aaa is not bbb)"
   ]
  },
  {
   "cell_type": "code",
   "execution_count": 16,
   "metadata": {},
   "outputs": [
    {
     "name": "stdout",
     "output_type": "stream",
     "text": [
      "False\n",
      "139971893705856\n",
      "139971891533456\n"
     ]
    }
   ],
   "source": [
    "ccc1 = [1, 2, 3]\n",
    "ccc2 = [1, 2, 3]\n",
    "\n",
    "print(ccc1 is ccc2)\n",
    "print(id(ccc1))\n",
    "print(id(ccc))"
   ]
  },
  {
   "cell_type": "code",
   "execution_count": 19,
   "metadata": {},
   "outputs": [
    {
     "name": "stdout",
     "output_type": "stream",
     "text": [
      "False\n",
      "None\n",
      "nan\n"
     ]
    }
   ],
   "source": [
    "import numpy as np\n",
    "\n",
    "ddd = None\n",
    "eee = np.nan\n",
    "\n",
    "print(ddd is eee)\n",
    "print(ddd)\n",
    "print(eee)"
   ]
  },
  {
   "cell_type": "code",
   "execution_count": 21,
   "metadata": {},
   "outputs": [
    {
     "name": "stdout",
     "output_type": "stream",
     "text": [
      "2\n"
     ]
    }
   ],
   "source": [
    "print(1) if aaa == [2, 3, 4] else print(2)"
   ]
  },
  {
   "cell_type": "code",
   "execution_count": 25,
   "metadata": {},
   "outputs": [
    {
     "name": "stdout",
     "output_type": "stream",
     "text": [
      "I love sake !!\n",
      "I love whisky !!\n",
      "I love wine !!\n",
      "I hate beer ...\n"
     ]
    }
   ],
   "source": [
    "alchol_list = ['sake', 'whisky', 'wine', 'beer']\n",
    "\n",
    "for alchol in alchol_list:\n",
    "    \n",
    "    unlike_alchol = 'beer'\n",
    "    if alchol != 'beer':\n",
    "        print('I love {} !!'.format(alchol))\n",
    "    else:\n",
    "        print('I hate {} ...'.format(unlike_alchol))\n",
    "        "
   ]
  },
  {
   "cell_type": "code",
   "execution_count": 27,
   "metadata": {},
   "outputs": [
    {
     "name": "stdout",
     "output_type": "stream",
     "text": [
      "[1, 2, 3, 4, 5, 6]\n",
      "21\n"
     ]
    }
   ],
   "source": [
    "new_list = list(range(1, 7))\n",
    "print(new_list)\n",
    "\n",
    "plus = 0\n",
    "for i in range(1, 7):\n",
    "    plus += i\n",
    "\n",
    "print(plus)"
   ]
  },
  {
   "cell_type": "code",
   "execution_count": 29,
   "metadata": {},
   "outputs": [
    {
     "name": "stdout",
     "output_type": "stream",
     "text": [
      "63\n",
      "range(1, 7)\n"
     ]
    }
   ],
   "source": [
    "for i in list(range(1, 7)):\n",
    "    plus += i\n",
    "\n",
    "print(plus)\n",
    "\n",
    "test = range(1,7)\n",
    "print(test)"
   ]
  },
  {
   "cell_type": "code",
   "execution_count": 30,
   "metadata": {},
   "outputs": [
    {
     "name": "stdout",
     "output_type": "stream",
     "text": [
      "[0, 5, 10, 15, 20]\n"
     ]
    }
   ],
   "source": [
    "sample_list = []\n",
    "for i in range(0, 5):\n",
    "    sample_list.append(i*5)\n",
    "    \n",
    "print(sample_list)"
   ]
  },
  {
   "cell_type": "code",
   "execution_count": 31,
   "metadata": {},
   "outputs": [
    {
     "data": {
      "text/plain": [
       "[0, 5, 10, 15, 20]"
      ]
     },
     "execution_count": 31,
     "metadata": {},
     "output_type": "execute_result"
    }
   ],
   "source": [
    "[i*5 for i in range(0, 5)]"
   ]
  },
  {
   "cell_type": "code",
   "execution_count": 37,
   "metadata": {},
   "outputs": [],
   "source": [
    "def add_function(pram1, pram2):\n",
    "    '''\n",
    "    This function add two number\n",
    "    \n",
    "    Parameters\n",
    "    ----------------------------\n",
    "    pram1: number\n",
    "    pram2: number\n",
    "    \n",
    "    <example>\n",
    "    output = add_function(pram1, pram2)\n",
    "    print(output) <- print result of 'pram1 + pram2' \n",
    "    '''\n",
    "    \n",
    "    result = pram1 + pram2\n",
    "    \n",
    "    return result"
   ]
  },
  {
   "cell_type": "code",
   "execution_count": 35,
   "metadata": {},
   "outputs": [],
   "source": [
    "pram1 = 78\n",
    "pram2 = 96\n",
    "output = add_function(pram1, pram2)"
   ]
  },
  {
   "cell_type": "code",
   "execution_count": 36,
   "metadata": {},
   "outputs": [
    {
     "name": "stdout",
     "output_type": "stream",
     "text": [
      "174\n"
     ]
    }
   ],
   "source": [
    "print(output)"
   ]
  },
  {
   "cell_type": "code",
   "execution_count": 38,
   "metadata": {},
   "outputs": [],
   "source": [
    "def get_filename(path):\n",
    "    return path.split('/')[-1]"
   ]
  },
  {
   "cell_type": "code",
   "execution_count": 39,
   "metadata": {},
   "outputs": [
    {
     "data": {
      "text/plain": [
       "'test.py'"
      ]
     },
     "execution_count": 39,
     "metadata": {},
     "output_type": "execute_result"
    }
   ],
   "source": [
    "get_filename('/home.shogo/study/test.py')"
   ]
  },
  {
   "cell_type": "code",
   "execution_count": 40,
   "metadata": {},
   "outputs": [
    {
     "data": {
      "text/plain": [
       "'test.py'"
      ]
     },
     "execution_count": 40,
     "metadata": {},
     "output_type": "execute_result"
    }
   ],
   "source": [
    "def get_filename(path): return path.split('/')[-1]\n",
    "\n",
    "get_filename('/home.shogo/study/test.py')"
   ]
  },
  {
   "cell_type": "code",
   "execution_count": 41,
   "metadata": {},
   "outputs": [
    {
     "data": {
      "text/plain": [
       "'test.py'"
      ]
     },
     "execution_count": 41,
     "metadata": {},
     "output_type": "execute_result"
    }
   ],
   "source": [
    "x = lambda path: path.split('/')[-1]\n",
    "x('/home.shogo/study/test.py')"
   ]
  },
  {
   "cell_type": "code",
   "execution_count": 42,
   "metadata": {},
   "outputs": [],
   "source": [
    "def print_list(*arg):\n",
    "    for elem in arg:\n",
    "        print(elem)"
   ]
  },
  {
   "cell_type": "code",
   "execution_count": 43,
   "metadata": {},
   "outputs": [
    {
     "name": "stdout",
     "output_type": "stream",
     "text": [
      "1\n",
      "aaa\n",
      "bbb\n"
     ]
    }
   ],
   "source": [
    "print_list(1, 'aaa', 'bbb')"
   ]
  },
  {
   "cell_type": "code",
   "execution_count": 44,
   "metadata": {},
   "outputs": [],
   "source": [
    "def print_dict(**kwargs):\n",
    "    \n",
    "    pram1 = str(kwargs.get('pram1', 'default_value'))\n",
    "    pram2 = str(kwargs.get('pram2', 'default_value'))\n",
    "    pram3 = str(kwargs.get('pram3'))\n",
    "    \n",
    "    print('param1 is {}'.format(pram1))\n",
    "    print('param2 is {}'.format(pram2))\n",
    "    print('param3 is {}'.format(pram3))"
   ]
  },
  {
   "cell_type": "code",
   "execution_count": 46,
   "metadata": {},
   "outputs": [
    {
     "name": "stdout",
     "output_type": "stream",
     "text": [
      "param1 is default_value\n",
      "param2 is default_value\n",
      "param3 is None\n"
     ]
    }
   ],
   "source": [
    "print_dict()"
   ]
  },
  {
   "cell_type": "code",
   "execution_count": null,
   "metadata": {},
   "outputs": [],
   "source": []
  }
 ],
 "metadata": {
  "kernelspec": {
   "display_name": "Python 3",
   "language": "python",
   "name": "python3"
  },
  "language_info": {
   "codemirror_mode": {
    "name": "ipython",
    "version": 3
   },
   "file_extension": ".py",
   "mimetype": "text/x-python",
   "name": "python",
   "nbconvert_exporter": "python",
   "pygments_lexer": "ipython3",
   "version": "3.7.4"
  }
 },
 "nbformat": 4,
 "nbformat_minor": 4
}
